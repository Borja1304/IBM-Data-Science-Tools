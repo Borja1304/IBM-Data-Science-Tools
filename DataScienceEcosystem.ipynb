{
 "cells": [
  {
   "cell_type": "markdown",
   "id": "64d6c90c",
   "metadata": {},
   "source": [
    "# Data Science Tools and Ecosystem"
   ]
  },
  {
   "cell_type": "markdown",
   "id": "12e38a06",
   "metadata": {},
   "source": [
    "In this notebook, Data Science Tools and Ecosystem are summarized."
   ]
  },
  {
   "cell_type": "markdown",
   "id": "2f12bfaf",
   "metadata": {},
   "source": [
    "Some of the popular languages that Data Scientists use are:\n",
    "1. Python\n",
    "2. Scala \n",
    "3. Julia\n",
    "4. R\n",
    "5. Java"
   ]
  },
  {
   "cell_type": "markdown",
   "id": "9a459fa7",
   "metadata": {},
   "source": [
    "Some of the commonly used libraries used by Data Scientists include: \n",
    "1. Matplotlib\n",
    "2. Numpy\n",
    "3. Pandas\n",
    "4. Scikit-learn"
   ]
  },
  {
   "cell_type": "markdown",
   "id": "24b4319e",
   "metadata": {},
   "source": [
    "Essential Open-Source Tools for Data Science\n",
    "\n",
    "| Data Science Tools |\n",
    "|---|\n",
    "| Jupyter Notebook| \n",
    "| RStudio|\n",
    "| Apache Spark | \n"
   ]
  },
  {
   "cell_type": "markdown",
   "id": "a97d9de0",
   "metadata": {},
   "source": [
    "### Below are some examples of evaluating arithmetic expressions using Python, a popular choice for data science due to its versatility and extensive libraries."
   ]
  },
  {
   "cell_type": "code",
   "execution_count": 1,
   "id": "099c36f3",
   "metadata": {},
   "outputs": [
    {
     "data": {
      "text/plain": [
       "17"
      ]
     },
     "execution_count": 1,
     "metadata": {},
     "output_type": "execute_result"
    }
   ],
   "source": [
    "# This example demonstrates evaluating a simple arithmetic expression involving multiplication and addition using Python:\n",
    "(3*4)+5"
   ]
  },
  {
   "cell_type": "code",
   "execution_count": 3,
   "id": "e3dcb87a",
   "metadata": {},
   "outputs": [
    {
     "name": "stdout",
     "output_type": "stream",
     "text": [
      "200 minutes is equal to 3.3333333333333335 hours.\n"
     ]
    }
   ],
   "source": [
    "# This code snippet converts 200 minutes to hours by dividing by 60:\n",
    "minutes_per_hour = 60 \n",
    "minutes = 200\n",
    "convertion_minute_to_hour = minutes/minutes_per_hour\n",
    "print(f\"{minutes} minutes is equal to {convertion_minute_to_hour} hours.\")"
   ]
  },
  {
   "cell_type": "markdown",
   "id": "bcfa5013",
   "metadata": {},
   "source": [
    "**Objectives:**\n",
    "* List popular languages for Data Science.\n",
    "* Introduce essential libraries used in Data Science.\n",
    "* Provide code examples for basic arithmetic expressions in Python."
   ]
  },
  {
   "cell_type": "markdown",
   "id": "e2df14ea",
   "metadata": {},
   "source": [
    "## Author:\n",
    "Benjamin Borja Rosas."
   ]
  }
 ],
 "metadata": {
  "kernelspec": {
   "display_name": "Python 3 (ipykernel)",
   "language": "python",
   "name": "python3"
  },
  "language_info": {
   "codemirror_mode": {
    "name": "ipython",
    "version": 3
   },
   "file_extension": ".py",
   "mimetype": "text/x-python",
   "name": "python",
   "nbconvert_exporter": "python",
   "pygments_lexer": "ipython3",
   "version": "3.11.7"
  }
 },
 "nbformat": 4,
 "nbformat_minor": 5
}
